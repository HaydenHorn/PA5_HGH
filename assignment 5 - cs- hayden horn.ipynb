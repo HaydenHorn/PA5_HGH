{
 "cells": [
  {
   "cell_type": "code",
   "execution_count": 55,
   "id": "aecf2e72",
   "metadata": {},
   "outputs": [
    {
     "name": "stdout",
     "output_type": "stream",
     "text": [
      "Enter a word to translate from English to Spanish (enter 0 to stop)0\n",
      "0  is not defined in our dictionary!\n"
     ]
    }
   ],
   "source": [
    "english_to_spanish={\"hello\":\"hola\",\n",
    "                    \"i\":\"yo\", \"good\":\"bien\", \"one\":\"uno\",\"who\":\"quien\",\n",
    "          \"please\":\"por favor\", \"when\":\"cuando\", \"love\":\"amor\",\"the\":\"el\",\"she\":\"ella\",\n",
    "          \"is\":\"es\",\"today\":\"hoy\",\"years\":\"anos\",\"sleep\":\"dormir\",\"happy\":\"feliz\",\n",
    "          \"my\":\"mi\",\"green\":\"verde\",\"name\":\"numbre\",\"number\":\"numero\",\"minute\":\"minuto\"}\n",
    "t=input(\"Enter a word to translate from English to Spanish (enter 0 to stop)\")\n",
    "if t==0:\n",
    "    quit()\n",
    "elif t==english_to_spanish:\n",
    "    print(t,\"is\",english_to_spanish[i], \"in spanish\")\n",
    "else:\n",
    "    print(t, \" is not defined in our dictionary!\")"
   ]
  },
  {
   "cell_type": "code",
   "execution_count": null,
   "id": "b65d3c2a",
   "metadata": {},
   "outputs": [],
   "source": []
  },
  {
   "cell_type": "code",
   "execution_count": null,
   "id": "2b23688d",
   "metadata": {},
   "outputs": [],
   "source": []
  },
  {
   "cell_type": "code",
   "execution_count": null,
   "id": "48f9574c",
   "metadata": {},
   "outputs": [],
   "source": []
  },
  {
   "cell_type": "code",
   "execution_count": 45,
   "id": "87206ac3",
   "metadata": {},
   "outputs": [
    {
     "name": "stdout",
     "output_type": "stream",
     "text": [
      "78 92 86 98 80 92 106 98 92 92 114 110 110 108 104 110 114 116 110 112 122 132 124 108 102 110 114 116 118 138 "
     ]
    }
   ],
   "source": [
    "September= {1:71,2:78,3:75,4:81,5:72,6:78,7:85,8:81,9:78,10:78,\n",
    "            11:89,12:87,13:87,14:86,15:84,16:87,17:89,18:90,19:87,20:88,\n",
    "            21:93,22:98,23:94,24:86,25:83,26:87,27:89,28:90,29:91,30:101}\n",
    "a=1\n",
    "for i in September:\n",
    "    a=2*September[i]-64\n",
    "    print(a,end=\" \")"
   ]
  },
  {
   "cell_type": "code",
   "execution_count": 46,
   "id": "82fecde9",
   "metadata": {},
   "outputs": [
    {
     "name": "stdout",
     "output_type": "stream",
     "text": [
      "1\n"
     ]
    }
   ],
   "source": [
    "September_chillest=min(September)\n",
    "print(September_chillest)"
   ]
  },
  {
   "cell_type": "code",
   "execution_count": 47,
   "id": "c48f60e9",
   "metadata": {},
   "outputs": [
    {
     "name": "stdout",
     "output_type": "stream",
     "text": [
      "30\n"
     ]
    }
   ],
   "source": [
    "September_warmest=max(September)\n",
    "print(September_warmest)"
   ]
  },
  {
   "cell_type": "markdown",
   "id": "0768b689",
   "metadata": {},
   "source": [
    "Explain the following set operations with suitable example:\n",
    "1. symmetric difference (^)\n",
    "2. .isdisjoint()\n",
    "3. intersection_update(&=)\n",
    "4. symmetric_difference (^=)\n",
    "5. remove(), discard(), pop()"
   ]
  },
  {
   "cell_type": "code",
   "execution_count": 15,
   "id": "11aae22f",
   "metadata": {},
   "outputs": [
    {
     "data": {
      "text/plain": [
       "{1, 2, 3, 6, 7, 8}"
      ]
     },
     "execution_count": 15,
     "metadata": {},
     "output_type": "execute_result"
    }
   ],
   "source": [
    "a={1,2,3,4,5}\n",
    "b={4,5,6,7,8}\n",
    "a.symmetric_difference(b)\n",
    "#Gives the #'s not duplicated'"
   ]
  },
  {
   "cell_type": "code",
   "execution_count": 16,
   "id": "43436270",
   "metadata": {},
   "outputs": [
    {
     "data": {
      "text/plain": [
       "True"
      ]
     },
     "execution_count": 16,
     "metadata": {},
     "output_type": "execute_result"
    }
   ],
   "source": [
    "a={1,2,3,4}\n",
    "b={5,6,7,8}\n",
    "a.isdisjoint(b)\n",
    "#Same objects/int's=false, different= true"
   ]
  },
  {
   "cell_type": "code",
   "execution_count": 17,
   "id": "c9c341d8",
   "metadata": {},
   "outputs": [
    {
     "name": "stdout",
     "output_type": "stream",
     "text": [
      "{3}\n"
     ]
    }
   ],
   "source": [
    "a={2,8,3}\n",
    "b={1,5,3}\n",
    "a.intersection_update(b)\n",
    "print(a)\n",
    "#3 is in both a and b so it will print 3"
   ]
  },
  {
   "cell_type": "code",
   "execution_count": 21,
   "id": "a49ae021",
   "metadata": {},
   "outputs": [
    {
     "name": "stdout",
     "output_type": "stream",
     "text": [
      "{2, 3, 4, 5}\n"
     ]
    }
   ],
   "source": [
    "a={1,2,3,4,5}\n",
    "a.remove(1)\n",
    "print(a)\n",
    "#Removes # selected"
   ]
  },
  {
   "cell_type": "code",
   "execution_count": 22,
   "id": "3705499e",
   "metadata": {},
   "outputs": [
    {
     "name": "stdout",
     "output_type": "stream",
     "text": [
      "{3, 4, 5}\n"
     ]
    }
   ],
   "source": [
    "a.discard(2)\n",
    "print(a)\n",
    "#discards # selected"
   ]
  },
  {
   "cell_type": "code",
   "execution_count": 23,
   "id": "17babfe3",
   "metadata": {},
   "outputs": [
    {
     "name": "stdout",
     "output_type": "stream",
     "text": [
      "{4, 5}\n"
     ]
    }
   ],
   "source": [
    "a.pop()\n",
    "print(a)\n",
    "#takes away first #"
   ]
  },
  {
   "cell_type": "markdown",
   "id": "bce3a54c",
   "metadata": {},
   "source": [
    "# Hayden Horn - Bellarmine - Fall,21 - 11/6/21 - C.S. - Assignment 5"
   ]
  },
  {
   "cell_type": "code",
   "execution_count": null,
   "id": "527843f7",
   "metadata": {},
   "outputs": [],
   "source": []
  }
 ],
 "metadata": {
  "kernelspec": {
   "display_name": "Python 3",
   "language": "python",
   "name": "python3"
  },
  "language_info": {
   "codemirror_mode": {
    "name": "ipython",
    "version": 3
   },
   "file_extension": ".py",
   "mimetype": "text/x-python",
   "name": "python",
   "nbconvert_exporter": "python",
   "pygments_lexer": "ipython3",
   "version": "3.8.8"
  }
 },
 "nbformat": 4,
 "nbformat_minor": 5
}
